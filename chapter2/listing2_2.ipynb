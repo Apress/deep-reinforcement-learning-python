{
 "cells": [
  {
   "cell_type": "markdown",
   "metadata": {},
   "source": [
    "## Markov Processes\n",
    "\n",
    "### Markov Chain - Continuing\n",
    "\n",
    "![Markov Chain](./images/mrp_continuing.png \"Markov Chain\")"
   ]
  },
  {
   "cell_type": "code",
   "execution_count": 2,
   "metadata": {},
   "outputs": [],
   "source": [
    "import numpy as np"
   ]
  },
  {
   "cell_type": "code",
   "execution_count": 3,
   "metadata": {},
   "outputs": [
    {
     "name": "stdout",
     "output_type": "stream",
     "text": [
      "Trnasition Matrix:\n",
      " [[0.3 0.7]\n",
      " [0.2 0.8]]\n",
      "\n",
      "Iter 0. Probability vector S = [0.25 0.75]\n",
      "\n",
      "Iter 1. Probability vector S = [0.225 0.775]\n",
      "\n",
      "Iter 2. Probability vector S = [0.2225 0.7775]\n",
      "\n",
      "Iter 3. Probability vector S = [0.22225 0.77775]\n",
      "\n",
      "Iter 4. Probability vector S = [0.222225 0.777775]\n",
      "\n",
      "Iter 5. Probability vector S = [0.2222225 0.7777775]\n",
      "\n",
      "Iter 6. Probability vector S = [0.22222225 0.77777775]\n",
      "\n",
      "Iter 7. Probability vector S = [0.22222223 0.77777778]\n",
      "\n",
      "Iter 8. Probability vector S = [0.22222222 0.77777778]\n",
      "\n",
      "Iter 9. Probability vector S = [0.22222222 0.77777778]\n",
      "\n",
      "Final Vector S=[0.22222222 0.77777778]\n"
     ]
    }
   ],
   "source": [
    "# MC with no end\n",
    "\n",
    "# import numpy library to do vector algebra\n",
    "import numpy as np\n",
    "\n",
    "# define transition matrix\n",
    "P = np.array([[0.3, 0.7], [0.2, 0.8]])\n",
    "print(\"Trnasition Matrix:\\n\", P)\n",
    "\n",
    "# define any starting solution to state probabilities\n",
    "# Here we assume equal probabilities for all the states\n",
    "S = np.array([0.5, 0.5])\n",
    "\n",
    "# run through 10 iterations to calculate steady state\n",
    "# transition probabilities\n",
    "for i in range(10):\n",
    "    S = np.dot(S, P)\n",
    "    print(\"\\nIter {0}. Probability vector S = {1}\".format(i, S))\n",
    "\n",
    "\n",
    "print(\"\\nFinal Vector S={0}\".format(S))"
   ]
  },
  {
   "cell_type": "markdown",
   "metadata": {},
   "source": [
    "### Markov Chain - Episodic\n",
    "\n",
    "\n",
    "![Markov Chain Episodic](./images/mc_episodic.png \"Markov Chain Episodic\")"
   ]
  },
  {
   "cell_type": "code",
   "execution_count": 4,
   "metadata": {},
   "outputs": [
    {
     "name": "stdout",
     "output_type": "stream",
     "text": [
      "Trnasition Matrix:\n",
      " [[0.3 0.5 0.2 0. ]\n",
      " [0.1 0.9 0.  0. ]\n",
      " [0.4 0.  0.  0.6]\n",
      " [0.  0.  0.  1. ]]\n",
      "\n",
      "Final Vector S=[4.73405766e-09 2.84857504e-08 9.63092427e-10 9.99999966e-01]\n"
     ]
    }
   ],
   "source": [
    "# MC Episodic\n",
    "\n",
    "# import numpy library to do vector algebra\n",
    "import numpy as np\n",
    "\n",
    "# define transition matrix\n",
    "P = np.array([\n",
    "    [0.3, 0.5, 0.2, 0.0],\n",
    "    [0.1, 0.9, 0.0, 0.0],\n",
    "    [0.4, 0, 0, 0.6],\n",
    "    [0, 0, 0, 1]\n",
    "])\n",
    "\n",
    "print(\"Trnasition Matrix:\\n\", P)\n",
    "\n",
    "# define any starting solution to state probabilities\n",
    "# Here we assume equal probabilities for all the states\n",
    "S = np.array([1, 0, 0, 0])\n",
    "\n",
    "# run through 10 iterations to calculate steady state\n",
    "# transition probabilities\n",
    "for i in range(1000):\n",
    "    S = np.dot(S, P)\n",
    "    # print(\"\\nIter {0}. Probability vector S = {1}\".format(i, S))\n",
    "\n",
    "\n",
    "print(\"\\nFinal Vector S={0}\".format(S))"
   ]
  },
  {
   "cell_type": "markdown",
   "metadata": {},
   "source": [
    "### Markov Reward Process - Continuing\n",
    "\n",
    "![Markov Reward Process](./images/mrp_continuing.png \"Markov Reward Process\")"
   ]
  },
  {
   "cell_type": "code",
   "execution_count": 5,
   "metadata": {},
   "outputs": [
    {
     "name": "stdout",
     "output_type": "stream",
     "text": [
      "Trnasition Matrix:\n",
      " [[0.3 0.7]\n",
      " [0.2 0.8]]\n",
      "\n",
      "Iter 0. Probability vector S = [0.25 0.75]\n",
      "\n",
      "Iter 1. Probability vector S = [0.225 0.775]\n",
      "\n",
      "Iter 2. Probability vector S = [0.2225 0.7775]\n",
      "\n",
      "Iter 3. Probability vector S = [0.22225 0.77775]\n",
      "\n",
      "Iter 4. Probability vector S = [0.222225 0.777775]\n",
      "\n",
      "Iter 5. Probability vector S = [0.2222225 0.7777775]\n",
      "\n",
      "Iter 6. Probability vector S = [0.22222225 0.77777775]\n",
      "\n",
      "Iter 7. Probability vector S = [0.22222223 0.77777778]\n",
      "\n",
      "Iter 8. Probability vector S = [0.22222222 0.77777778]\n",
      "\n",
      "Iter 9. Probability vector S = [0.22222222 0.77777778]\n",
      "\n",
      "Final Vector S=[0.22222222 0.77777778]\n"
     ]
    }
   ],
   "source": [
    "# MRP Continuing\n",
    "\n",
    "# import numpy library to do vector algebra\n",
    "import numpy as np\n",
    "\n",
    "# define transition matrix\n",
    "P = np.array([[0.3, 0.7], [0.2, 0.8]])\n",
    "print(\"Trnasition Matrix:\\n\", P)\n",
    "\n",
    "# define any starting solution to state probabilities\n",
    "# Here we assume equal probabilities for all the states\n",
    "S = np.array([0.5, 0.5])\n",
    "\n",
    "# run through 10 iterations to calculate steady state\n",
    "# transition probabilities\n",
    "for i in range(10):\n",
    "    S = np.dot(S, P)\n",
    "    print(\"\\nIter {0}. Probability vector S = {1}\".format(i, S))\n",
    "\n",
    "# steady state S\n",
    "print(\"\\nFinal Vector S={0}\".format(S))"
   ]
  }
 ],
 "metadata": {
  "kernelspec": {
   "display_name": "Python 3",
   "language": "python",
   "name": "python3"
  },
  "language_info": {
   "codemirror_mode": {
    "name": "ipython",
    "version": 3
   },
   "file_extension": ".py",
   "mimetype": "text/x-python",
   "name": "python",
   "nbconvert_exporter": "python",
   "pygments_lexer": "ipython3",
   "version": "3.8.3"
  }
 },
 "nbformat": 4,
 "nbformat_minor": 4
}
